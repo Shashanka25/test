{
 "cells": [
  {
   "cell_type": "markdown",
   "id": "60bbdec7",
   "metadata": {},
   "source": [
    "### lambda"
   ]
  },
  {
   "cell_type": "code",
   "execution_count": 1,
   "id": "c2742c13",
   "metadata": {},
   "outputs": [
    {
     "data": {
      "text/plain": [
       "9"
      ]
     },
     "execution_count": 1,
     "metadata": {},
     "output_type": "execute_result"
    }
   ],
   "source": [
    "def sum(a,b):\n",
    "    return a+b\n",
    "\n",
    "sum(4,5)"
   ]
  },
  {
   "cell_type": "code",
   "execution_count": 2,
   "id": "05dcb507",
   "metadata": {},
   "outputs": [
    {
     "data": {
      "text/plain": [
       "64"
      ]
     },
     "execution_count": 2,
     "metadata": {},
     "output_type": "execute_result"
    }
   ],
   "source": [
    "def cube(x):\n",
    "    return x*x*x\n",
    "cube(4)"
   ]
  },
  {
   "cell_type": "markdown",
   "id": "d003dcdc",
   "metadata": {},
   "source": [
    "# lambda arguments: expression"
   ]
  },
  {
   "cell_type": "code",
   "execution_count": 3,
   "id": "282360df",
   "metadata": {},
   "outputs": [
    {
     "data": {
      "text/plain": [
       "125"
      ]
     },
     "execution_count": 3,
     "metadata": {},
     "output_type": "execute_result"
    }
   ],
   "source": [
    "lambda_cube=lambda y: y*y*y\n",
    "lambda_cube(5)"
   ]
  },
  {
   "cell_type": "code",
   "execution_count": 4,
   "id": "1ef20b23",
   "metadata": {},
   "outputs": [
    {
     "data": {
      "text/plain": [
       "9"
      ]
     },
     "execution_count": 4,
     "metadata": {},
     "output_type": "execute_result"
    }
   ],
   "source": [
    "sum=lambda a,b:a+b\n",
    "sum(4,5)"
   ]
  },
  {
   "cell_type": "code",
   "execution_count": 5,
   "id": "bf333b0c",
   "metadata": {},
   "outputs": [
    {
     "name": "stdout",
     "output_type": "stream",
     "text": [
      "10\n"
     ]
    }
   ],
   "source": [
    "add=lambda num: num+4\n",
    "print(add(6))"
   ]
  },
  {
   "cell_type": "code",
   "execution_count": 6,
   "id": "9e6c0775",
   "metadata": {},
   "outputs": [
    {
     "data": {
      "text/plain": [
       "5"
      ]
     },
     "execution_count": 6,
     "metadata": {},
     "output_type": "execute_result"
    }
   ],
   "source": [
    "def greater(a,b):\n",
    "    if a>b:\n",
    "        return a\n",
    "    else:\n",
    "        return b\n",
    "\n",
    "greater(4,5)"
   ]
  },
  {
   "cell_type": "markdown",
   "id": "a82616f4",
   "metadata": {},
   "source": [
    "### Example of lambda function using if-else"
   ]
  },
  {
   "cell_type": "code",
   "execution_count": 7,
   "id": "fb5186b5",
   "metadata": {},
   "outputs": [
    {
     "data": {
      "text/plain": [
       "5"
      ]
     },
     "execution_count": 7,
     "metadata": {},
     "output_type": "execute_result"
    }
   ],
   "source": [
    "Max=lambda a,b:a if(a>b) else b\n",
    "Max(4,5)"
   ]
  },
  {
   "cell_type": "code",
   "execution_count": 8,
   "id": "8ee6c62a",
   "metadata": {},
   "outputs": [
    {
     "data": {
      "text/plain": [
       "[25, 49, 4, 64, 36]"
      ]
     },
     "execution_count": 8,
     "metadata": {},
     "output_type": "execute_result"
    }
   ],
   "source": [
    "my_list=[5,7,2,8,6]\n",
    "my_list_squared=[]\n",
    "for i in my_list:\n",
    "    i_squared=i**2\n",
    "    my_list_squared.append(i_squared)\n",
    "    \n",
    "my_list_squared"
   ]
  },
  {
   "cell_type": "code",
   "execution_count": 9,
   "id": "94254ce7",
   "metadata": {},
   "outputs": [
    {
     "data": {
      "text/plain": [
       "[25, 49, 4, 64, 36]"
      ]
     },
     "execution_count": 9,
     "metadata": {},
     "output_type": "execute_result"
    }
   ],
   "source": [
    "my_list_squared=[i**2 for i in my_list]\n",
    "my_list_squared"
   ]
  },
  {
   "cell_type": "code",
   "execution_count": 10,
   "id": "d64a82ab",
   "metadata": {},
   "outputs": [
    {
     "data": {
      "text/plain": [
       "[25, 49, 4, 64, 36]"
      ]
     },
     "execution_count": 10,
     "metadata": {},
     "output_type": "execute_result"
    }
   ],
   "source": [
    "my_list_squared=list(map(lambda i: i**2,my_list))\n",
    "my_list_squared"
   ]
  },
  {
   "cell_type": "markdown",
   "id": "f0fdd873",
   "metadata": {},
   "source": [
    "## Map"
   ]
  },
  {
   "cell_type": "code",
   "execution_count": 11,
   "id": "b5ee4dd6",
   "metadata": {},
   "outputs": [
    {
     "data": {
      "text/plain": [
       "[8, 10, 11, 12, 13]"
      ]
     },
     "execution_count": 11,
     "metadata": {},
     "output_type": "execute_result"
    }
   ],
   "source": [
    "def add4(x):\n",
    "    return x+4\n",
    "list1=[4,6,7,8,9]\n",
    "list2=list(map(add4,list1))\n",
    "list2"
   ]
  },
  {
   "cell_type": "code",
   "execution_count": 12,
   "id": "27c70527",
   "metadata": {},
   "outputs": [
    {
     "data": {
      "text/plain": [
       "[8, 10, 11, 12, 13]"
      ]
     },
     "execution_count": 12,
     "metadata": {},
     "output_type": "execute_result"
    }
   ],
   "source": [
    "list3=list(map(lambda x:x+4,list1))\n",
    "list3"
   ]
  },
  {
   "cell_type": "code",
   "execution_count": 13,
   "id": "aa7dd27e",
   "metadata": {},
   "outputs": [
    {
     "data": {
      "text/plain": [
       "['abc_2022', 'def_2022', 'xyz_2022']"
      ]
     },
     "execution_count": 13,
     "metadata": {},
     "output_type": "execute_result"
    }
   ],
   "source": [
    "set_of_strings=['abc','def','xyz']\n",
    "string_map_22=list(map(lambda my_string: my_string+'_2022',set_of_strings))\n",
    "string_map_22"
   ]
  },
  {
   "cell_type": "markdown",
   "id": "2080422e",
   "metadata": {},
   "source": [
    "## Filter()"
   ]
  },
  {
   "cell_type": "code",
   "execution_count": 1,
   "id": "ebc2af5a",
   "metadata": {},
   "outputs": [
    {
     "data": {
      "text/plain": [
       "[4, 6, 8]"
      ]
     },
     "execution_count": 1,
     "metadata": {},
     "output_type": "execute_result"
    }
   ],
   "source": [
    "def oddeven(x):\n",
    "    if x%2==0:\n",
    "        return True\n",
    "    else:\n",
    "        return False\n",
    "    \n",
    "list1=[4,5,6,7,8,9]\n",
    "evenlist=list(filter(oddeven,list1))\n",
    "evenlist"
   ]
  },
  {
   "cell_type": "code",
   "execution_count": 2,
   "id": "7781671e",
   "metadata": {},
   "outputs": [
    {
     "data": {
      "text/plain": [
       "[4, 6, 8]"
      ]
     },
     "execution_count": 2,
     "metadata": {},
     "output_type": "execute_result"
    }
   ],
   "source": [
    "list1=[4,5,6,7,8,9]\n",
    "evenlist=list(filter(lambda x:True if x%2==0 else False,list1))\n",
    "evenlist"
   ]
  },
  {
   "cell_type": "markdown",
   "id": "ce9b7425",
   "metadata": {},
   "source": [
    "## Reduce"
   ]
  },
  {
   "cell_type": "code",
   "execution_count": 3,
   "id": "c65a7eb4",
   "metadata": {},
   "outputs": [
    {
     "data": {
      "text/plain": [
       "30"
      ]
     },
     "execution_count": 3,
     "metadata": {},
     "output_type": "execute_result"
    }
   ],
   "source": [
    "from functools import reduce\n",
    "def sum(x,y):\n",
    "    return x+y\n",
    "\n",
    "list1=[6,7,8,9]\n",
    "s=reduce(sum,list1)\n",
    "s"
   ]
  },
  {
   "cell_type": "code",
   "execution_count": null,
   "id": "b677b29a",
   "metadata": {},
   "outputs": [],
   "source": []
  }
 ],
 "metadata": {
  "kernelspec": {
   "display_name": "Python 3 (ipykernel)",
   "language": "python",
   "name": "python3"
  },
  "language_info": {
   "codemirror_mode": {
    "name": "ipython",
    "version": 3
   },
   "file_extension": ".py",
   "mimetype": "text/x-python",
   "name": "python",
   "nbconvert_exporter": "python",
   "pygments_lexer": "ipython3",
   "version": "3.9.12"
  }
 },
 "nbformat": 4,
 "nbformat_minor": 5
}
